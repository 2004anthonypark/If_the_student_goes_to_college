{
  "nbformat": 4,
  "nbformat_minor": 0,
  "metadata": {
    "colab": {
      "name": "ingenius_research.ipynb",
      "provenance": [],
      "collapsed_sections": []
    },
    "kernelspec": {
      "name": "python3",
      "display_name": "Python 3"
    },
    "language_info": {
      "name": "python"
    }
  },
  "cells": [
    {
      "cell_type": "code",
      "execution_count": 79,
      "metadata": {
        "colab": {
          "base_uri": "https://localhost:8080/"
        },
        "id": "Mg-VHwmqTQcp",
        "outputId": "067c5567-ba66-41d1-d4f0-60cb15c13569"
      },
      "outputs": [
        {
          "output_type": "stream",
          "name": "stdout",
          "text": [
            "Mounted at /gdrive\n"
          ]
        }
      ],
      "source": [
        "from google.colab import drive \n",
        "import torch \n",
        "import torch.nn as nn \n",
        "import pandas as pd\n",
        "import matplotlib.pyplot as plt\n",
        "import numpy as np\n",
        "from sklearn.model_selection import train_test_split\n",
        "drive.mount('/gdrive',force_remount = True)\n",
        "data_path = '/gdrive/My Drive/data.csv' \n",
        "data = pd.read_csv(data_path)\n",
        "\n",
        "#train,test = train_test_split(data, test_size = 0.1)\n"
      ]
    },
    {
      "cell_type": "code",
      "source": [
        "def preprocessing_onehotencoding(dataframe):\n",
        "  index = list(set(dataframe.values)) #value에서 set(집합)으로 하는이유: 집합엔 중복이 없기떄문에 set으로 넣어서 종류별로 만들고 계산하기좋게 list로 다시바꾼다\n",
        "  for i in range(len(index)):\n",
        "    key = index[i]\n",
        "    boollist = (dataframe == key).values\n",
        "    T = torch.FloatTensor(boollist)*(i+1)\n",
        "    if i ==0:\n",
        "      result = T\n",
        "    else:\n",
        "      result += T\n",
        "  return result"
      ],
      "metadata": {
        "id": "JCQZ9BV0ZOJp"
      },
      "execution_count": 80,
      "outputs": []
    },
    {
      "cell_type": "code",
      "source": [
        "col = list(data.columns)\n",
        "col1 = col[:5]\n",
        "col2 = col[5:]\n",
        "data_Tensor = []\n",
        "for j in col1:\n",
        "  data_Tensor.append(preprocessing_onehotencoding(data[j])) #onehotencoding하는 함수\n",
        "for k in col2:\n",
        "  T = torch.FloatTensor(data[k].values)\n",
        "  data_Tensor.append(T)\n",
        "\n",
        "data_Tensor = torch.stack(data_Tensor, dim=0).transpose(0,1) #data 개수가 행 원래 (1000,11)인데 반대라서 transpose\n",
        "\n",
        "data = data_Tensor[:,:10] #(1000,10)\n",
        "label = data_Tensor[:,-1].unsqueeze(-1) #(1000,1)\n",
        "\n",
        "std = torch.std(data, dim=0)\n",
        "mean = torch.mean(data, dim=0)\n",
        "data = (data-mean)/std\n",
        "data_Tensor = torch.cat([data, label],dim=-1)\n",
        "\n",
        "\n",
        "\n",
        "train_data_label, test_data_label = train_test_split(data_Tensor, test_size=0.1) # 900, 11    100,11\n",
        "train_data = train_data_label[:,:-1]\n",
        "train_label = train_data_label[:,-1].unsqueeze(1) #이차원으로 늘려줘야해서 unsquuze 얘가 정답\n",
        "\n",
        "test_data = test_data_label[:,:-1]\n",
        "test_label =test_data_label[:,-1].unsqueeze(1)\n",
        "print(train_data.shape,train_label.shape,test_data.shape,test_label.shape )\n",
        "\n"
      ],
      "metadata": {
        "colab": {
          "base_uri": "https://localhost:8080/"
        },
        "id": "QcDy07A7acHS",
        "outputId": "73795779-6a71-47cb-cdcf-256e5f8eb075"
      },
      "execution_count": 81,
      "outputs": [
        {
          "output_type": "stream",
          "name": "stdout",
          "text": [
            "torch.Size([900, 10]) torch.Size([900, 1]) torch.Size([100, 10]) torch.Size([100, 1])\n"
          ]
        }
      ]
    },
    {
      "cell_type": "code",
      "source": [
        "class Classifier(nn.Module):\n",
        "  def __init__(self):\n",
        "    super().__init__()\n",
        "    self.function1= nn.Linear(10,64)\n",
        "    self.function2= nn.Linear(64,1)\n",
        "  def forward(self,x):\n",
        "    tmp = torch.tanh(self.function1(x))\n",
        "    result = self.function2(tmp)\n",
        "    return torch.sigmoid(result)"
      ],
      "metadata": {
        "id": "vbkiN5U_Yxc2"
      },
      "execution_count": 82,
      "outputs": []
    },
    {
      "cell_type": "code",
      "source": [
        "lr = 0.01\n",
        "epoch = 200\n",
        "\n",
        "model = Classifier()\n",
        "optim = torch.optim.Adam(model.parameters(),lr=lr)\n",
        "L = nn.BCELoss() # 함수는 그냥 L()\n",
        "losses = []\n",
        "test_losses = []\n",
        "epochs = []\n",
        "for epo in range(epoch):\n",
        "  optim.zero_grad()\n",
        "  y_pred = model(train_data)\n",
        "  loss = L(y_pred,train_label)\n",
        "  loss.backward()\n",
        "  optim.step()\n",
        "  if epo%10 == 0:\n",
        "    losses.append(loss.detach().numpy())\n",
        "    test_pred = model(test_data)\n",
        "    test_loss = L(test_pred, test_label)\n",
        "    test_losses.append(test_loss.detach().numpy())\n",
        "    epochs.append(epo)\n",
        "\n",
        "  if epo%50==0: #epo중에 1000으로 나눠지면 로스 프린트\n",
        "    print(f'epo {epo} : {loss}')\n",
        "print(np.asarray(losses).shape, np.asarray(test_losses).shape)\n",
        "plt.plot(np.asarray(epochs),np.asarray(losses),'r.',label='train_loss')\n",
        "plt.plot(np.asarray(epochs),np.asarray(test_losses),'b.',label='test_loss')\n",
        "plt.legend()\n",
        "\n",
        "  \n",
        "\n",
        "\n",
        "\n"
      ],
      "metadata": {
        "colab": {
          "base_uri": "https://localhost:8080/",
          "height": 369
        },
        "id": "Bv4--6ZOaDFh",
        "outputId": "1015df73-861d-47d5-c46b-333f50ccac2f"
      },
      "execution_count": 83,
      "outputs": [
        {
          "output_type": "stream",
          "name": "stdout",
          "text": [
            "epo 0 : 0.7040092349052429\n",
            "epo 50 : 0.2275177538394928\n",
            "epo 100 : 0.1480412632226944\n",
            "epo 150 : 0.10022753477096558\n",
            "(20,) (20,)\n"
          ]
        },
        {
          "output_type": "execute_result",
          "data": {
            "text/plain": [
              "<matplotlib.legend.Legend at 0x7f66cf0a0110>"
            ]
          },
          "metadata": {},
          "execution_count": 83
        },
        {
          "output_type": "display_data",
          "data": {
            "text/plain": [
              "<Figure size 432x288 with 1 Axes>"
            ],
            "image/png": "[encoded data removed]"
          },
          "metadata": {
            "needs_background": "light"
          }
        }
      ]
    },
    {
      "cell_type": "code",
      "source": [
        "model.eval()\n",
        "test_pred = model(test_data)\n",
        "test_pred = torch.round(test_pred)\n",
        "print(test_pred.shape)\n",
        "tp, tn, fp, fn = 0,0,0,0\n",
        "for i in range(test_pred.shape[0]):\n",
        "  if test_pred[i] and test_label[i]:\n",
        "    tp+=1\n",
        "  elif test_pred[i] and not test_label[i]:\n",
        "    fp+=1\n",
        "  elif not test_pred[i] and test_label[i]:\n",
        "    fn +=1\n",
        "  else:\n",
        "    tn +=1\n",
        "print(tp,fp,fn,tn)\n",
        "precision = tp/(tp+fp)\n",
        "recall = tp/(tp+fn)\n",
        "accuracy = torch.sum(torch.round(test_pred) == test_label)\n",
        "print(\"accuracy : \",(tp+tn), \" %\")\n",
        "print(\"recall\", tp/(tp+fn))\n",
        "print(\"precision\", tp/(tp+fp))\n",
        "print(\"f1 : \", (2*recall*precision)/(precision+recall))\n",
        "\n"
      ],
      "metadata": {
        "colab": {
          "base_uri": "https://localhost:8080/"
        },
        "id": "eE4F_McyhpqZ",
        "outputId": "c01c8c05-d286-4c24-af49-38be74724afb"
      },
      "execution_count": 84,
      "outputs": [
        {
          "output_type": "stream",
          "name": "stdout",
          "text": [
            "torch.Size([100, 1])\n",
            "48 4 5 43\n",
            "accuracy :  91  %\n",
            "recall 0.9056603773584906\n",
            "precision 0.9230769230769231\n",
            "f1 :  0.9142857142857143\n"
          ]
        }
      ]
    }
  ]
}