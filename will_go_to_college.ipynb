{
  "nbformat": 4,
  "nbformat_minor": 0,
  "metadata": {
    "colab": {
      "provenance": [],
      "collapsed_sections": []
    },
    "kernelspec": {
      "name": "python3",
      "display_name": "Python 3"
    },
    "language_info": {
      "name": "python"
    }
  },
  "cells": [
    {
      "cell_type": "code",
      "execution_count": 47,
      "metadata": {
        "colab": {
          "base_uri": "https://localhost:8080/"
        },
        "id": "Mg-VHwmqTQcp",
        "outputId": "fb951af6-f33a-460d-b61b-68019a781422"
      },
      "outputs": [
        {
          "output_type": "stream",
          "name": "stdout",
          "text": [
            "Mounted at /gdrive\n"
          ]
        }
      ],
      "source": [
        "from google.colab import drive \n",
        "import torch \n",
        "import torch.nn as nn \n",
        "import pandas as pd\n",
        "import matplotlib.pyplot as plt\n",
        "import numpy as np\n",
        "from sklearn.model_selection import train_test_split\n",
        "drive.mount('/gdrive',force_remount = True)\n",
        "data_path = '/gdrive/My Drive/data.csv' \n",
        "data = pd.read_csv(data_path)\n"
      ]
    },
    {
      "cell_type": "code",
      "source": [
        "def preprocessing_onehotencoding(dataframe):\n",
        "  index = list(set(dataframe.values)) \n",
        "  for i in range(len(index)):\n",
        "    key = index[i]\n",
        "    boollist = (dataframe == key).values\n",
        "    T = torch.FloatTensor(boollist)*(i+1)\n",
        "    if i ==0:\n",
        "      result = T\n",
        "    else:\n",
        "      result += T\n",
        "  return result"
      ],
      "metadata": {
        "id": "JCQZ9BV0ZOJp"
      },
      "execution_count": 3,
      "outputs": []
    },
    {
      "cell_type": "code",
      "source": [
        "col = list(data.columns)\n",
        "col1 = col[:5]\n",
        "col2 = col[5:]\n",
        "data_Tensor = []\n",
        "for j in col1:\n",
        "  data_Tensor.append(preprocessing_onehotencoding(data[j])) #onehotencoding하는 함수\n",
        "for k in col2:\n",
        "  T = torch.FloatTensor(data[k].values)\n",
        "  data_Tensor.append(T)\n",
        "\n",
        "data_Tensor = torch.stack(data_Tensor, dim=0).transpose(0,1) \n",
        "\n",
        "data = data_Tensor[:,:10] #(1000,10)\n",
        "label = data_Tensor[:,-1].unsqueeze(-1) #(1000,1)\n",
        "\n",
        "std = torch.std(data, dim=0)\n",
        "mean = torch.mean(data, dim=0)\n",
        "# print(mean.shape, std.shape)\n",
        "ablationhigh = np.zeros((10,10))\n",
        "ablationlow = np.zeros((10,10))\n",
        "for i in range(10):\n",
        "  ablationhigh[i,i] = 1\n",
        "  ablationlow[i,i] = -1\n",
        "\n",
        "data = (data-mean)/std\n",
        "data_Tensor = torch.cat([data, label],dim=-1)\n",
        "\n",
        "\n",
        "\n",
        "train_data_label, test_data_label = train_test_split(data_Tensor, test_size=0.1) # 900, 11    100,11\n",
        "train_data = train_data_label[:,:-1]\n",
        "train_label = train_data_label[:,-1].unsqueeze(1) \n",
        "\n",
        "test_data = test_data_label[:,:-1]\n",
        "test_label =test_data_label[:,-1].unsqueeze(1)\n",
        "\n"
      ],
      "metadata": {
        "colab": {
          "base_uri": "https://localhost:8080/"
        },
        "id": "QcDy07A7acHS",
        "outputId": "ee59265c-ee23-4c3e-f1c0-19dc5a641f4e"
      },
      "execution_count": 48,
      "outputs": [
        {
          "output_type": "stream",
          "name": "stdout",
          "text": [
            "[[1. 0. 0. 0. 0. 0. 0. 0. 0. 0.]\n",
            " [0. 1. 0. 0. 0. 0. 0. 0. 0. 0.]\n",
            " [0. 0. 1. 0. 0. 0. 0. 0. 0. 0.]\n",
            " [0. 0. 0. 1. 0. 0. 0. 0. 0. 0.]\n",
            " [0. 0. 0. 0. 1. 0. 0. 0. 0. 0.]\n",
            " [0. 0. 0. 0. 0. 1. 0. 0. 0. 0.]\n",
            " [0. 0. 0. 0. 0. 0. 1. 0. 0. 0.]\n",
            " [0. 0. 0. 0. 0. 0. 0. 1. 0. 0.]\n",
            " [0. 0. 0. 0. 0. 0. 0. 0. 1. 0.]\n",
            " [0. 0. 0. 0. 0. 0. 0. 0. 0. 1.]]\n",
            "torch.Size([900, 10]) torch.Size([900, 1]) torch.Size([100, 10]) torch.Size([100, 1])\n"
          ]
        }
      ]
    },
    {
      "cell_type": "code",
      "source": [
        "class Classifier(nn.Module):\n",
        "  def __init__(self):\n",
        "    super().__init__()\n",
        "    self.function1= nn.Linear(10,64)\n",
        "    self.function2= nn.Linear(64,1)\n",
        "  def forward(self,x):\n",
        "    tmp = torch.tanh(self.function1(x))\n",
        "    result = self.function2(tmp)\n",
        "    return torch.sigmoid(result)"
      ],
      "metadata": {
        "id": "vbkiN5U_Yxc2"
      },
      "execution_count": 13,
      "outputs": []
    },
    {
      "cell_type": "code",
      "source": [
        "lr = 0.01\n",
        "epoch = 200\n",
        "\n",
        "model = Classifier()\n",
        "optim = torch.optim.Adam(model.parameters(),lr=lr)\n",
        "L = nn.BCELoss() # 함수는 그냥 L()\n",
        "losses = []\n",
        "test_losses = []\n",
        "epochs = []\n",
        "for epo in range(epoch):\n",
        "  optim.zero_grad()\n",
        "  y_pred = model(train_data)\n",
        "  loss = L(y_pred,train_label)\n",
        "  loss.backward()\n",
        "  optim.step()\n",
        "  if epo%10 == 0:\n",
        "    losses.append(loss.detach().numpy())\n",
        "    test_pred = model(test_data)\n",
        "    test_loss = L(test_pred, test_label)\n",
        "    test_losses.append(test_loss.detach().numpy())\n",
        "    epochs.append(epo)\n",
        "\n",
        "  if epo%50==0: #epo중에 1000으로 나눠지면 로스 프린트\n",
        "    print(f'epo {epo} : {loss}')\n",
        "print(np.asarray(losses).shape, np.asarray(test_losses).shape)\n",
        "plt.plot(np.asarray(epochs),np.asarray(losses),'r.',label='train_loss')\n",
        "plt.plot(np.asarray(epochs),np.asarray(test_losses),'b.',label='test_loss')\n",
        "plt.legend()"
      ],
      "metadata": {
        "colab": {
          "base_uri": "https://localhost:8080/",
          "height": 369
        },
        "id": "Bv4--6ZOaDFh",
        "outputId": "f0826af9-cd08-48a8-c965-edbdb7490f92"
      },
      "execution_count": 14,
      "outputs": [
        {
          "output_type": "stream",
          "name": "stdout",
          "text": [
            "epo 0 : 0.7141916155815125\n",
            "epo 50 : 0.24298198521137238\n",
            "epo 100 : 0.1548747569322586\n",
            "epo 150 : 0.10697127133607864\n",
            "(20,) (20,)\n"
          ]
        },
        {
          "output_type": "execute_result",
          "data": {
            "text/plain": [
              "<matplotlib.legend.Legend at 0x7f876059d250>"
            ]
          },
          "metadata": {},
          "execution_count": 14
        },
        {
          "output_type": "display_data",
          "data": {
            "text/plain": [
              "<Figure size 432x288 with 1 Axes>"
            ],
            "image/png": "[encoded data removed]"
          },
          "metadata": {
            "needs_background": "light"
          }
        }
      ]
    },
    {
      "cell_type": "code",
      "source": [
        "model.eval()\n",
        "test_pred = model(test_data)\n",
        "test_pred = torch.round(test_pred)\n",
        "print(test_pred.shape)\n",
        "tp, tn, fp, fn = 0,0,0,0\n",
        "for i in range(test_pred.shape[0]):\n",
        "  if test_pred[i] and test_label[i]:\n",
        "    tp+=1\n",
        "  elif test_pred[i] and not test_label[i]:\n",
        "    fp+=1\n",
        "  elif not test_pred[i] and test_label[i]:\n",
        "    fn +=1\n",
        "  else:\n",
        "    tn +=1\n",
        "print(tp,fp,fn,tn)\n",
        "precision = tp/(tp+fp)\n",
        "recall = tp/(tp+fn)\n",
        "accuracy = torch.sum(torch.round(test_pred) == test_label)\n",
        "print(\"accuracy : \",(tp+tn), \" %\")\n",
        "print(\"recall\", tp/(tp+fn))\n",
        "print(\"precision\", tp/(tp+fp))\n",
        "print(\"f1 : \", (2*recall*precision)/(precision+recall))\n",
        "\n",
        "\n",
        "print(\"ablation Study : influence of each element of data\")\n",
        "col_name = [\"type_school\", \"school_accreditation\", \"gender\", \"interest\",\"residence\",\"parant_age\",\"parent_salary\",\"house_area\",\"average_grades\",\"parent_was_in_college\"]\n",
        "for i in range(10):\n",
        "  print( col_name[i], \"low : \", float(model(torch.Tensor(ablationlow[i]))), \"high : \",float(model(torch.Tensor(ablationhigh[i]))))\n"
      ],
      "metadata": {
        "colab": {
          "base_uri": "https://localhost:8080/"
        },
        "id": "eE4F_McyhpqZ",
        "outputId": "239d50f7-9ae3-47e7-a5dd-794e050c27d2"
      },
      "execution_count": 53,
      "outputs": [
        {
          "output_type": "stream",
          "name": "stdout",
          "text": [
            "torch.Size([100, 1])\n",
            "57 2 0 41\n",
            "accuracy :  98  %\n",
            "recall 1.0\n",
            "precision 0.9661016949152542\n",
            "f1 :  0.9827586206896551\n",
            "ablation Study : influence of each element of data\n",
            "type_school low :  0.38450905680656433 high :  0.10309204459190369\n",
            "school_accreditation low :  0.16974279284477234 high :  0.6877800822257996\n",
            "gender low :  0.5216309428215027 high :  0.29743510484695435\n",
            "interest low :  0.6045006513595581 high :  0.9591832160949707\n",
            "residence low :  0.013734935782849789 high :  0.9595187306404114\n",
            "parant_age low :  0.004894770681858063 high :  0.3061669170856476\n",
            "parent_salary low :  0.0008249382954090834 high :  0.9952172040939331\n",
            "house_area low :  0.033688705414533615 high :  0.9852956533432007\n",
            "average_grades low :  0.2682076096534729 high :  0.9876722097396851\n",
            "parent_was_in_college low :  0.10567519813776016 high :  0.8415181636810303\n"
          ]
        }
      ]
    }
  ]
}